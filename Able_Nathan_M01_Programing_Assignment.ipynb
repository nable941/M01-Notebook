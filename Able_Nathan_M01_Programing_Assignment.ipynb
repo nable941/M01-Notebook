{
 "cells": [
  {
   "cell_type": "code",
   "execution_count": 3,
   "id": "a5e4a1c6",
   "metadata": {},
   "outputs": [
    {
     "name": "stdout",
     "output_type": "stream",
     "text": [
      "3600\n",
      "86400\n",
      "24.0\n",
      "24\n"
     ]
    }
   ],
   "source": [
    "#Set second in a minute\n",
    "sec_per_min = 60\n",
    "#Set minutes in a hour\n",
    "min_per_hour = 60\n",
    "#Get seconds in an calculation and set to variable. Print result\n",
    "sec_per_hour = sec_per_min * min_per_hour\n",
    "print(sec_per_hour)\n",
    "#Get seconds per day in a calculation and set to variable. Print result\n",
    "sec_per_day = sec_per_hour * 24\n",
    "print(sec_per_day)\n",
    "#Calculate hours in a day as float and integer. \n",
    "print(sec_per_day/sec_per_hour)\n",
    "print(sec_per_day//sec_per_hour)"
   ]
  },
  {
   "cell_type": "code",
   "execution_count": null,
   "id": "1ec13e69",
   "metadata": {},
   "outputs": [],
   "source": []
  }
 ],
 "metadata": {
  "kernelspec": {
   "display_name": "Python 3 (ipykernel)",
   "language": "python",
   "name": "python3"
  },
  "language_info": {
   "codemirror_mode": {
    "name": "ipython",
    "version": 3
   },
   "file_extension": ".py",
   "mimetype": "text/x-python",
   "name": "python",
   "nbconvert_exporter": "python",
   "pygments_lexer": "ipython3",
   "version": "3.9.13"
  }
 },
 "nbformat": 4,
 "nbformat_minor": 5
}
